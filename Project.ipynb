{
 "cells": [
  {
   "cell_type": "markdown",
   "metadata": {},
   "source": [
    "Предстоит определять качество вина. Необходимо решить задачу классификации с использованием SVM и подобрать наилучшее ядро."
   ]
  },
  {
   "cell_type": "markdown",
   "metadata": {},
   "source": [
    "# Importing the libraries"
   ]
  },
  {
   "cell_type": "code",
   "execution_count": 20,
   "metadata": {},
   "outputs": [],
   "source": [
    "import warnings\n",
    "warnings.filterwarnings(\"ignore\")\n",
    "\n",
    "import numpy as np \n",
    "import pandas as pd \n",
    "import seaborn as sns \n",
    "import matplotlib.pyplot as plt\n",
    "\n",
    "import sweetviz as sv\n",
    "from sklearn.preprocessing import StandardScaler\n",
    "\n",
    "from sklearn.model_selection import train_test_split\n",
    "from sklearn.model_selection import StratifiedShuffleSplit\n",
    "\n",
    "from sklearn.svm import SVC\n",
    "from sklearn.model_selection import GridSearchCV\n",
    "from sklearn.model_selection import cross_val_score\n",
    "\n",
    "from sklearn.metrics import confusion_matrix\n",
    "\n",
    "from sklearn.model_selection import cross_val_score\n",
    "from sklearn.naive_bayes import GaussianNB\n",
    "from sklearn.linear_model import LogisticRegression\n",
    "from sklearn import tree\n",
    "from sklearn.neighbors import KNeighborsClassifier\n",
    "from sklearn.ensemble import RandomForestClassifier"
   ]
  },
  {
   "cell_type": "code",
   "execution_count": 21,
   "metadata": {},
   "outputs": [],
   "source": [
    "df = pd.read_csv('Data/winequality-red.csv', sep=';')"
   ]
  },
  {
   "cell_type": "markdown",
   "metadata": {},
   "source": [
    "# Introduce\n",
    "\n",
    "На основании загруженного датасета можно сделать следующее описание его признаков:\n",
    "\n",
    "- **fixed acidity** - фиксированная кислотность;\n",
    "- **volatile acidity** - летучая кислотность;\n",
    "- **citric acid** - лимонная кислота;\n",
    "- **residual sugar** - остаточный сахар;\n",
    "- **chlorides** - хлориды;\n",
    "- **free sulfur dioxide** - свободный диоксид серы;\n",
    "- **total sulfur dioxide** - общий диоксид серы;\n",
    "- **density** - плотность;\n",
    "- **pH** - pH, т.н. водородный показатель или показатель кислотности;\n",
    "- **sulphates** - сульфаты;\n",
    "- **alcohol** - спирт;\n",
    "- **quality** - качество.\n",
    "\n",
    "Целевой переменной по заданию является признак **quality**. Остальные признаки - для обучения модели."
   ]
  },
  {
   "cell_type": "code",
   "execution_count": 22,
   "metadata": {},
   "outputs": [
    {
     "data": {
      "text/html": [
       "<div>\n",
       "<style scoped>\n",
       "    .dataframe tbody tr th:only-of-type {\n",
       "        vertical-align: middle;\n",
       "    }\n",
       "\n",
       "    .dataframe tbody tr th {\n",
       "        vertical-align: top;\n",
       "    }\n",
       "\n",
       "    .dataframe thead th {\n",
       "        text-align: right;\n",
       "    }\n",
       "</style>\n",
       "<table border=\"1\" class=\"dataframe\">\n",
       "  <thead>\n",
       "    <tr style=\"text-align: right;\">\n",
       "      <th></th>\n",
       "      <th>fixed acidity</th>\n",
       "      <th>volatile acidity</th>\n",
       "      <th>citric acid</th>\n",
       "      <th>residual sugar</th>\n",
       "      <th>chlorides</th>\n",
       "      <th>free sulfur dioxide</th>\n",
       "      <th>total sulfur dioxide</th>\n",
       "      <th>density</th>\n",
       "      <th>pH</th>\n",
       "      <th>sulphates</th>\n",
       "      <th>alcohol</th>\n",
       "      <th>quality</th>\n",
       "    </tr>\n",
       "  </thead>\n",
       "  <tbody>\n",
       "    <tr>\n",
       "      <th>818</th>\n",
       "      <td>7.1</td>\n",
       "      <td>0.715</td>\n",
       "      <td>0.00</td>\n",
       "      <td>2.35</td>\n",
       "      <td>0.071</td>\n",
       "      <td>21.0</td>\n",
       "      <td>47.0</td>\n",
       "      <td>0.99632</td>\n",
       "      <td>3.29</td>\n",
       "      <td>0.45</td>\n",
       "      <td>9.4</td>\n",
       "      <td>5</td>\n",
       "    </tr>\n",
       "    <tr>\n",
       "      <th>167</th>\n",
       "      <td>7.3</td>\n",
       "      <td>0.550</td>\n",
       "      <td>0.03</td>\n",
       "      <td>1.60</td>\n",
       "      <td>0.072</td>\n",
       "      <td>17.0</td>\n",
       "      <td>42.0</td>\n",
       "      <td>0.99560</td>\n",
       "      <td>3.37</td>\n",
       "      <td>0.48</td>\n",
       "      <td>9.0</td>\n",
       "      <td>4</td>\n",
       "    </tr>\n",
       "    <tr>\n",
       "      <th>935</th>\n",
       "      <td>8.8</td>\n",
       "      <td>0.300</td>\n",
       "      <td>0.38</td>\n",
       "      <td>2.30</td>\n",
       "      <td>0.060</td>\n",
       "      <td>19.0</td>\n",
       "      <td>72.0</td>\n",
       "      <td>0.99543</td>\n",
       "      <td>3.39</td>\n",
       "      <td>0.72</td>\n",
       "      <td>11.8</td>\n",
       "      <td>6</td>\n",
       "    </tr>\n",
       "    <tr>\n",
       "      <th>838</th>\n",
       "      <td>10.1</td>\n",
       "      <td>0.310</td>\n",
       "      <td>0.35</td>\n",
       "      <td>1.60</td>\n",
       "      <td>0.075</td>\n",
       "      <td>9.0</td>\n",
       "      <td>28.0</td>\n",
       "      <td>0.99672</td>\n",
       "      <td>3.24</td>\n",
       "      <td>0.83</td>\n",
       "      <td>11.2</td>\n",
       "      <td>7</td>\n",
       "    </tr>\n",
       "    <tr>\n",
       "      <th>577</th>\n",
       "      <td>8.8</td>\n",
       "      <td>0.440</td>\n",
       "      <td>0.49</td>\n",
       "      <td>2.80</td>\n",
       "      <td>0.083</td>\n",
       "      <td>18.0</td>\n",
       "      <td>111.0</td>\n",
       "      <td>0.99820</td>\n",
       "      <td>3.30</td>\n",
       "      <td>0.60</td>\n",
       "      <td>9.5</td>\n",
       "      <td>5</td>\n",
       "    </tr>\n",
       "    <tr>\n",
       "      <th>863</th>\n",
       "      <td>7.2</td>\n",
       "      <td>0.620</td>\n",
       "      <td>0.06</td>\n",
       "      <td>2.50</td>\n",
       "      <td>0.078</td>\n",
       "      <td>17.0</td>\n",
       "      <td>84.0</td>\n",
       "      <td>0.99746</td>\n",
       "      <td>3.51</td>\n",
       "      <td>0.53</td>\n",
       "      <td>9.7</td>\n",
       "      <td>5</td>\n",
       "    </tr>\n",
       "    <tr>\n",
       "      <th>1049</th>\n",
       "      <td>9.3</td>\n",
       "      <td>0.500</td>\n",
       "      <td>0.36</td>\n",
       "      <td>1.80</td>\n",
       "      <td>0.084</td>\n",
       "      <td>6.0</td>\n",
       "      <td>17.0</td>\n",
       "      <td>0.99704</td>\n",
       "      <td>3.27</td>\n",
       "      <td>0.77</td>\n",
       "      <td>10.8</td>\n",
       "      <td>6</td>\n",
       "    </tr>\n",
       "    <tr>\n",
       "      <th>906</th>\n",
       "      <td>7.2</td>\n",
       "      <td>0.540</td>\n",
       "      <td>0.27</td>\n",
       "      <td>2.60</td>\n",
       "      <td>0.084</td>\n",
       "      <td>12.0</td>\n",
       "      <td>78.0</td>\n",
       "      <td>0.99640</td>\n",
       "      <td>3.39</td>\n",
       "      <td>0.71</td>\n",
       "      <td>11.0</td>\n",
       "      <td>5</td>\n",
       "    </tr>\n",
       "    <tr>\n",
       "      <th>206</th>\n",
       "      <td>12.8</td>\n",
       "      <td>0.300</td>\n",
       "      <td>0.74</td>\n",
       "      <td>2.60</td>\n",
       "      <td>0.095</td>\n",
       "      <td>9.0</td>\n",
       "      <td>28.0</td>\n",
       "      <td>0.99940</td>\n",
       "      <td>3.20</td>\n",
       "      <td>0.77</td>\n",
       "      <td>10.8</td>\n",
       "      <td>7</td>\n",
       "    </tr>\n",
       "    <tr>\n",
       "      <th>668</th>\n",
       "      <td>10.0</td>\n",
       "      <td>0.730</td>\n",
       "      <td>0.43</td>\n",
       "      <td>2.30</td>\n",
       "      <td>0.059</td>\n",
       "      <td>15.0</td>\n",
       "      <td>31.0</td>\n",
       "      <td>0.99660</td>\n",
       "      <td>3.15</td>\n",
       "      <td>0.57</td>\n",
       "      <td>11.0</td>\n",
       "      <td>5</td>\n",
       "    </tr>\n",
       "  </tbody>\n",
       "</table>\n",
       "</div>"
      ],
      "text/plain": [
       "      fixed acidity  volatile acidity  citric acid  residual sugar  chlorides  \\\n",
       "818             7.1             0.715         0.00            2.35      0.071   \n",
       "167             7.3             0.550         0.03            1.60      0.072   \n",
       "935             8.8             0.300         0.38            2.30      0.060   \n",
       "838            10.1             0.310         0.35            1.60      0.075   \n",
       "577             8.8             0.440         0.49            2.80      0.083   \n",
       "863             7.2             0.620         0.06            2.50      0.078   \n",
       "1049            9.3             0.500         0.36            1.80      0.084   \n",
       "906             7.2             0.540         0.27            2.60      0.084   \n",
       "206            12.8             0.300         0.74            2.60      0.095   \n",
       "668            10.0             0.730         0.43            2.30      0.059   \n",
       "\n",
       "      free sulfur dioxide  total sulfur dioxide  density    pH  sulphates  \\\n",
       "818                  21.0                  47.0  0.99632  3.29       0.45   \n",
       "167                  17.0                  42.0  0.99560  3.37       0.48   \n",
       "935                  19.0                  72.0  0.99543  3.39       0.72   \n",
       "838                   9.0                  28.0  0.99672  3.24       0.83   \n",
       "577                  18.0                 111.0  0.99820  3.30       0.60   \n",
       "863                  17.0                  84.0  0.99746  3.51       0.53   \n",
       "1049                  6.0                  17.0  0.99704  3.27       0.77   \n",
       "906                  12.0                  78.0  0.99640  3.39       0.71   \n",
       "206                   9.0                  28.0  0.99940  3.20       0.77   \n",
       "668                  15.0                  31.0  0.99660  3.15       0.57   \n",
       "\n",
       "      alcohol  quality  \n",
       "818       9.4        5  \n",
       "167       9.0        4  \n",
       "935      11.8        6  \n",
       "838      11.2        7  \n",
       "577       9.5        5  \n",
       "863       9.7        5  \n",
       "1049     10.8        6  \n",
       "906      11.0        5  \n",
       "206      10.8        7  \n",
       "668      11.0        5  "
      ]
     },
     "execution_count": 22,
     "metadata": {},
     "output_type": "execute_result"
    }
   ],
   "source": [
    "df.sample(10)"
   ]
  },
  {
   "cell_type": "code",
   "execution_count": 23,
   "metadata": {},
   "outputs": [
    {
     "name": "stdout",
     "output_type": "stream",
     "text": [
      "<class 'pandas.core.frame.DataFrame'>\n",
      "RangeIndex: 1599 entries, 0 to 1598\n",
      "Data columns (total 12 columns):\n",
      " #   Column                Non-Null Count  Dtype  \n",
      "---  ------                --------------  -----  \n",
      " 0   fixed acidity         1599 non-null   float64\n",
      " 1   volatile acidity      1599 non-null   float64\n",
      " 2   citric acid           1599 non-null   float64\n",
      " 3   residual sugar        1599 non-null   float64\n",
      " 4   chlorides             1599 non-null   float64\n",
      " 5   free sulfur dioxide   1599 non-null   float64\n",
      " 6   total sulfur dioxide  1599 non-null   float64\n",
      " 7   density               1599 non-null   float64\n",
      " 8   pH                    1599 non-null   float64\n",
      " 9   sulphates             1599 non-null   float64\n",
      " 10  alcohol               1599 non-null   float64\n",
      " 11  quality               1599 non-null   int64  \n",
      "dtypes: float64(11), int64(1)\n",
      "memory usage: 150.0 KB\n"
     ]
    }
   ],
   "source": [
    "df.info()"
   ]
  },
  {
   "cell_type": "markdown",
   "metadata": {},
   "source": [
    "# EDA"
   ]
  },
  {
   "cell_type": "code",
   "execution_count": 24,
   "metadata": {},
   "outputs": [
    {
     "data": {
      "text/html": [
       "<div>\n",
       "<style scoped>\n",
       "    .dataframe tbody tr th:only-of-type {\n",
       "        vertical-align: middle;\n",
       "    }\n",
       "\n",
       "    .dataframe tbody tr th {\n",
       "        vertical-align: top;\n",
       "    }\n",
       "\n",
       "    .dataframe thead th {\n",
       "        text-align: right;\n",
       "    }\n",
       "</style>\n",
       "<table border=\"1\" class=\"dataframe\">\n",
       "  <thead>\n",
       "    <tr style=\"text-align: right;\">\n",
       "      <th></th>\n",
       "      <th>fixed acidity</th>\n",
       "      <th>volatile acidity</th>\n",
       "      <th>citric acid</th>\n",
       "      <th>residual sugar</th>\n",
       "      <th>chlorides</th>\n",
       "      <th>free sulfur dioxide</th>\n",
       "      <th>total sulfur dioxide</th>\n",
       "      <th>density</th>\n",
       "      <th>pH</th>\n",
       "      <th>sulphates</th>\n",
       "      <th>alcohol</th>\n",
       "      <th>quality</th>\n",
       "    </tr>\n",
       "  </thead>\n",
       "  <tbody>\n",
       "    <tr>\n",
       "      <th>count</th>\n",
       "      <td>1599.000000</td>\n",
       "      <td>1599.000000</td>\n",
       "      <td>1599.000000</td>\n",
       "      <td>1599.000000</td>\n",
       "      <td>1599.000000</td>\n",
       "      <td>1599.000000</td>\n",
       "      <td>1599.000000</td>\n",
       "      <td>1599.000000</td>\n",
       "      <td>1599.000000</td>\n",
       "      <td>1599.000000</td>\n",
       "      <td>1599.000000</td>\n",
       "      <td>1599.000000</td>\n",
       "    </tr>\n",
       "    <tr>\n",
       "      <th>mean</th>\n",
       "      <td>8.319637</td>\n",
       "      <td>0.527821</td>\n",
       "      <td>0.270976</td>\n",
       "      <td>2.538806</td>\n",
       "      <td>0.087467</td>\n",
       "      <td>15.874922</td>\n",
       "      <td>46.467792</td>\n",
       "      <td>0.996747</td>\n",
       "      <td>3.311113</td>\n",
       "      <td>0.658149</td>\n",
       "      <td>10.422983</td>\n",
       "      <td>5.636023</td>\n",
       "    </tr>\n",
       "    <tr>\n",
       "      <th>std</th>\n",
       "      <td>1.741096</td>\n",
       "      <td>0.179060</td>\n",
       "      <td>0.194801</td>\n",
       "      <td>1.409928</td>\n",
       "      <td>0.047065</td>\n",
       "      <td>10.460157</td>\n",
       "      <td>32.895324</td>\n",
       "      <td>0.001887</td>\n",
       "      <td>0.154386</td>\n",
       "      <td>0.169507</td>\n",
       "      <td>1.065668</td>\n",
       "      <td>0.807569</td>\n",
       "    </tr>\n",
       "    <tr>\n",
       "      <th>min</th>\n",
       "      <td>4.600000</td>\n",
       "      <td>0.120000</td>\n",
       "      <td>0.000000</td>\n",
       "      <td>0.900000</td>\n",
       "      <td>0.012000</td>\n",
       "      <td>1.000000</td>\n",
       "      <td>6.000000</td>\n",
       "      <td>0.990070</td>\n",
       "      <td>2.740000</td>\n",
       "      <td>0.330000</td>\n",
       "      <td>8.400000</td>\n",
       "      <td>3.000000</td>\n",
       "    </tr>\n",
       "    <tr>\n",
       "      <th>25%</th>\n",
       "      <td>7.100000</td>\n",
       "      <td>0.390000</td>\n",
       "      <td>0.090000</td>\n",
       "      <td>1.900000</td>\n",
       "      <td>0.070000</td>\n",
       "      <td>7.000000</td>\n",
       "      <td>22.000000</td>\n",
       "      <td>0.995600</td>\n",
       "      <td>3.210000</td>\n",
       "      <td>0.550000</td>\n",
       "      <td>9.500000</td>\n",
       "      <td>5.000000</td>\n",
       "    </tr>\n",
       "    <tr>\n",
       "      <th>50%</th>\n",
       "      <td>7.900000</td>\n",
       "      <td>0.520000</td>\n",
       "      <td>0.260000</td>\n",
       "      <td>2.200000</td>\n",
       "      <td>0.079000</td>\n",
       "      <td>14.000000</td>\n",
       "      <td>38.000000</td>\n",
       "      <td>0.996750</td>\n",
       "      <td>3.310000</td>\n",
       "      <td>0.620000</td>\n",
       "      <td>10.200000</td>\n",
       "      <td>6.000000</td>\n",
       "    </tr>\n",
       "    <tr>\n",
       "      <th>75%</th>\n",
       "      <td>9.200000</td>\n",
       "      <td>0.640000</td>\n",
       "      <td>0.420000</td>\n",
       "      <td>2.600000</td>\n",
       "      <td>0.090000</td>\n",
       "      <td>21.000000</td>\n",
       "      <td>62.000000</td>\n",
       "      <td>0.997835</td>\n",
       "      <td>3.400000</td>\n",
       "      <td>0.730000</td>\n",
       "      <td>11.100000</td>\n",
       "      <td>6.000000</td>\n",
       "    </tr>\n",
       "    <tr>\n",
       "      <th>max</th>\n",
       "      <td>15.900000</td>\n",
       "      <td>1.580000</td>\n",
       "      <td>1.000000</td>\n",
       "      <td>15.500000</td>\n",
       "      <td>0.611000</td>\n",
       "      <td>72.000000</td>\n",
       "      <td>289.000000</td>\n",
       "      <td>1.003690</td>\n",
       "      <td>4.010000</td>\n",
       "      <td>2.000000</td>\n",
       "      <td>14.900000</td>\n",
       "      <td>8.000000</td>\n",
       "    </tr>\n",
       "  </tbody>\n",
       "</table>\n",
       "</div>"
      ],
      "text/plain": [
       "       fixed acidity  volatile acidity  citric acid  residual sugar  \\\n",
       "count    1599.000000       1599.000000  1599.000000     1599.000000   \n",
       "mean        8.319637          0.527821     0.270976        2.538806   \n",
       "std         1.741096          0.179060     0.194801        1.409928   \n",
       "min         4.600000          0.120000     0.000000        0.900000   \n",
       "25%         7.100000          0.390000     0.090000        1.900000   \n",
       "50%         7.900000          0.520000     0.260000        2.200000   \n",
       "75%         9.200000          0.640000     0.420000        2.600000   \n",
       "max        15.900000          1.580000     1.000000       15.500000   \n",
       "\n",
       "         chlorides  free sulfur dioxide  total sulfur dioxide      density  \\\n",
       "count  1599.000000          1599.000000           1599.000000  1599.000000   \n",
       "mean      0.087467            15.874922             46.467792     0.996747   \n",
       "std       0.047065            10.460157             32.895324     0.001887   \n",
       "min       0.012000             1.000000              6.000000     0.990070   \n",
       "25%       0.070000             7.000000             22.000000     0.995600   \n",
       "50%       0.079000            14.000000             38.000000     0.996750   \n",
       "75%       0.090000            21.000000             62.000000     0.997835   \n",
       "max       0.611000            72.000000            289.000000     1.003690   \n",
       "\n",
       "                pH    sulphates      alcohol      quality  \n",
       "count  1599.000000  1599.000000  1599.000000  1599.000000  \n",
       "mean      3.311113     0.658149    10.422983     5.636023  \n",
       "std       0.154386     0.169507     1.065668     0.807569  \n",
       "min       2.740000     0.330000     8.400000     3.000000  \n",
       "25%       3.210000     0.550000     9.500000     5.000000  \n",
       "50%       3.310000     0.620000    10.200000     6.000000  \n",
       "75%       3.400000     0.730000    11.100000     6.000000  \n",
       "max       4.010000     2.000000    14.900000     8.000000  "
      ]
     },
     "execution_count": 24,
     "metadata": {},
     "output_type": "execute_result"
    }
   ],
   "source": [
    "df.describe()"
   ]
  },
  {
   "cell_type": "code",
   "execution_count": 25,
   "metadata": {},
   "outputs": [
    {
     "name": "stdout",
     "output_type": "stream",
     "text": [
      "Всего дубликатов: 240\n"
     ]
    }
   ],
   "source": [
    "# Проверим дубликаты\n",
    "duplicates = df.duplicated()\n",
    "print('Всего дубликатов: {}'.format(duplicates.sum()))"
   ]
  },
  {
   "cell_type": "code",
   "execution_count": 26,
   "metadata": {},
   "outputs": [],
   "source": [
    "# Удаление дубликатов\n",
    "df.drop_duplicates(inplace=True)"
   ]
  },
  {
   "cell_type": "code",
   "execution_count": 27,
   "metadata": {},
   "outputs": [
    {
     "name": "stdout",
     "output_type": "stream",
     "text": [
      "Всего пропусков: 0\n"
     ]
    }
   ],
   "source": [
    "# Проверка пропусков во всем датасете\n",
    "missing_values = df.isnull().sum().sum()\n",
    "print('Всего пропусков: {}'.format(missing_values))"
   ]
  },
  {
   "cell_type": "markdown",
   "metadata": {},
   "source": [
    "Признак **quality** распознан как категориальный, с шестью значениями. По рекомендациям в проекте, необходимо свести значения этого признака к двум: ``1 - good wine``, `0 - bad wine` ``('bad wine': quality < 6.5 и 'good wine': quality > 6.5)``."
   ]
  },
  {
   "cell_type": "code",
   "execution_count": 28,
   "metadata": {},
   "outputs": [
    {
     "data": {
      "text/html": [
       "<div>\n",
       "<style scoped>\n",
       "    .dataframe tbody tr th:only-of-type {\n",
       "        vertical-align: middle;\n",
       "    }\n",
       "\n",
       "    .dataframe tbody tr th {\n",
       "        vertical-align: top;\n",
       "    }\n",
       "\n",
       "    .dataframe thead th {\n",
       "        text-align: right;\n",
       "    }\n",
       "</style>\n",
       "<table border=\"1\" class=\"dataframe\">\n",
       "  <thead>\n",
       "    <tr style=\"text-align: right;\">\n",
       "      <th></th>\n",
       "      <th>fixed acidity</th>\n",
       "      <th>volatile acidity</th>\n",
       "      <th>citric acid</th>\n",
       "      <th>residual sugar</th>\n",
       "      <th>chlorides</th>\n",
       "      <th>free sulfur dioxide</th>\n",
       "      <th>total sulfur dioxide</th>\n",
       "      <th>density</th>\n",
       "      <th>pH</th>\n",
       "      <th>sulphates</th>\n",
       "      <th>alcohol</th>\n",
       "      <th>quality</th>\n",
       "    </tr>\n",
       "  </thead>\n",
       "  <tbody>\n",
       "    <tr>\n",
       "      <th>1579</th>\n",
       "      <td>6.2</td>\n",
       "      <td>0.56</td>\n",
       "      <td>0.09</td>\n",
       "      <td>1.7</td>\n",
       "      <td>0.053</td>\n",
       "      <td>24.0</td>\n",
       "      <td>32.0</td>\n",
       "      <td>0.99402</td>\n",
       "      <td>3.54</td>\n",
       "      <td>0.60</td>\n",
       "      <td>11.3</td>\n",
       "      <td>0</td>\n",
       "    </tr>\n",
       "    <tr>\n",
       "      <th>655</th>\n",
       "      <td>9.7</td>\n",
       "      <td>0.55</td>\n",
       "      <td>0.17</td>\n",
       "      <td>2.9</td>\n",
       "      <td>0.087</td>\n",
       "      <td>20.0</td>\n",
       "      <td>53.0</td>\n",
       "      <td>1.00040</td>\n",
       "      <td>3.14</td>\n",
       "      <td>0.61</td>\n",
       "      <td>9.4</td>\n",
       "      <td>0</td>\n",
       "    </tr>\n",
       "    <tr>\n",
       "      <th>1161</th>\n",
       "      <td>8.8</td>\n",
       "      <td>0.45</td>\n",
       "      <td>0.43</td>\n",
       "      <td>1.4</td>\n",
       "      <td>0.076</td>\n",
       "      <td>12.0</td>\n",
       "      <td>21.0</td>\n",
       "      <td>0.99551</td>\n",
       "      <td>3.21</td>\n",
       "      <td>0.75</td>\n",
       "      <td>10.2</td>\n",
       "      <td>0</td>\n",
       "    </tr>\n",
       "    <tr>\n",
       "      <th>1411</th>\n",
       "      <td>6.4</td>\n",
       "      <td>0.47</td>\n",
       "      <td>0.40</td>\n",
       "      <td>2.4</td>\n",
       "      <td>0.071</td>\n",
       "      <td>8.0</td>\n",
       "      <td>19.0</td>\n",
       "      <td>0.99630</td>\n",
       "      <td>3.56</td>\n",
       "      <td>0.73</td>\n",
       "      <td>10.6</td>\n",
       "      <td>0</td>\n",
       "    </tr>\n",
       "    <tr>\n",
       "      <th>1541</th>\n",
       "      <td>7.4</td>\n",
       "      <td>0.25</td>\n",
       "      <td>0.29</td>\n",
       "      <td>2.2</td>\n",
       "      <td>0.054</td>\n",
       "      <td>19.0</td>\n",
       "      <td>49.0</td>\n",
       "      <td>0.99666</td>\n",
       "      <td>3.40</td>\n",
       "      <td>0.76</td>\n",
       "      <td>10.9</td>\n",
       "      <td>1</td>\n",
       "    </tr>\n",
       "    <tr>\n",
       "      <th>481</th>\n",
       "      <td>9.4</td>\n",
       "      <td>0.30</td>\n",
       "      <td>0.56</td>\n",
       "      <td>2.8</td>\n",
       "      <td>0.080</td>\n",
       "      <td>6.0</td>\n",
       "      <td>17.0</td>\n",
       "      <td>0.99640</td>\n",
       "      <td>3.15</td>\n",
       "      <td>0.92</td>\n",
       "      <td>11.7</td>\n",
       "      <td>1</td>\n",
       "    </tr>\n",
       "    <tr>\n",
       "      <th>694</th>\n",
       "      <td>9.0</td>\n",
       "      <td>0.47</td>\n",
       "      <td>0.31</td>\n",
       "      <td>2.7</td>\n",
       "      <td>0.084</td>\n",
       "      <td>24.0</td>\n",
       "      <td>125.0</td>\n",
       "      <td>0.99840</td>\n",
       "      <td>3.31</td>\n",
       "      <td>0.61</td>\n",
       "      <td>9.4</td>\n",
       "      <td>0</td>\n",
       "    </tr>\n",
       "    <tr>\n",
       "      <th>189</th>\n",
       "      <td>7.9</td>\n",
       "      <td>0.49</td>\n",
       "      <td>0.32</td>\n",
       "      <td>1.9</td>\n",
       "      <td>0.082</td>\n",
       "      <td>17.0</td>\n",
       "      <td>144.0</td>\n",
       "      <td>0.99680</td>\n",
       "      <td>3.20</td>\n",
       "      <td>0.55</td>\n",
       "      <td>9.5</td>\n",
       "      <td>0</td>\n",
       "    </tr>\n",
       "    <tr>\n",
       "      <th>632</th>\n",
       "      <td>7.6</td>\n",
       "      <td>0.41</td>\n",
       "      <td>0.14</td>\n",
       "      <td>3.0</td>\n",
       "      <td>0.087</td>\n",
       "      <td>21.0</td>\n",
       "      <td>43.0</td>\n",
       "      <td>0.99640</td>\n",
       "      <td>3.32</td>\n",
       "      <td>0.57</td>\n",
       "      <td>10.5</td>\n",
       "      <td>0</td>\n",
       "    </tr>\n",
       "    <tr>\n",
       "      <th>1133</th>\n",
       "      <td>7.2</td>\n",
       "      <td>0.48</td>\n",
       "      <td>0.07</td>\n",
       "      <td>5.5</td>\n",
       "      <td>0.089</td>\n",
       "      <td>10.0</td>\n",
       "      <td>18.0</td>\n",
       "      <td>0.99684</td>\n",
       "      <td>3.37</td>\n",
       "      <td>0.68</td>\n",
       "      <td>11.2</td>\n",
       "      <td>1</td>\n",
       "    </tr>\n",
       "  </tbody>\n",
       "</table>\n",
       "</div>"
      ],
      "text/plain": [
       "      fixed acidity  volatile acidity  citric acid  residual sugar  chlorides  \\\n",
       "1579            6.2              0.56         0.09             1.7      0.053   \n",
       "655             9.7              0.55         0.17             2.9      0.087   \n",
       "1161            8.8              0.45         0.43             1.4      0.076   \n",
       "1411            6.4              0.47         0.40             2.4      0.071   \n",
       "1541            7.4              0.25         0.29             2.2      0.054   \n",
       "481             9.4              0.30         0.56             2.8      0.080   \n",
       "694             9.0              0.47         0.31             2.7      0.084   \n",
       "189             7.9              0.49         0.32             1.9      0.082   \n",
       "632             7.6              0.41         0.14             3.0      0.087   \n",
       "1133            7.2              0.48         0.07             5.5      0.089   \n",
       "\n",
       "      free sulfur dioxide  total sulfur dioxide  density    pH  sulphates  \\\n",
       "1579                 24.0                  32.0  0.99402  3.54       0.60   \n",
       "655                  20.0                  53.0  1.00040  3.14       0.61   \n",
       "1161                 12.0                  21.0  0.99551  3.21       0.75   \n",
       "1411                  8.0                  19.0  0.99630  3.56       0.73   \n",
       "1541                 19.0                  49.0  0.99666  3.40       0.76   \n",
       "481                   6.0                  17.0  0.99640  3.15       0.92   \n",
       "694                  24.0                 125.0  0.99840  3.31       0.61   \n",
       "189                  17.0                 144.0  0.99680  3.20       0.55   \n",
       "632                  21.0                  43.0  0.99640  3.32       0.57   \n",
       "1133                 10.0                  18.0  0.99684  3.37       0.68   \n",
       "\n",
       "      alcohol  quality  \n",
       "1579     11.3        0  \n",
       "655       9.4        0  \n",
       "1161     10.2        0  \n",
       "1411     10.6        0  \n",
       "1541     10.9        1  \n",
       "481      11.7        1  \n",
       "694       9.4        0  \n",
       "189       9.5        0  \n",
       "632      10.5        0  \n",
       "1133     11.2        1  "
      ]
     },
     "execution_count": 28,
     "metadata": {},
     "output_type": "execute_result"
    }
   ],
   "source": [
    "# Преобразуем целевой признак в бинарный на основе входных условий\n",
    "df['quality'] = df['quality'].apply(lambda x: 1 if float(x) > 6.5 else 0)\n",
    "df.sample(10)"
   ]
  },
  {
   "cell_type": "code",
   "execution_count": 30,
   "metadata": {},
   "outputs": [
    {
     "data": {
      "text/html": [
       "<div>\n",
       "<style scoped>\n",
       "    .dataframe tbody tr th:only-of-type {\n",
       "        vertical-align: middle;\n",
       "    }\n",
       "\n",
       "    .dataframe tbody tr th {\n",
       "        vertical-align: top;\n",
       "    }\n",
       "\n",
       "    .dataframe thead th {\n",
       "        text-align: right;\n",
       "    }\n",
       "</style>\n",
       "<table border=\"1\" class=\"dataframe\">\n",
       "  <thead>\n",
       "    <tr style=\"text-align: right;\">\n",
       "      <th></th>\n",
       "      <th>fixed acidity</th>\n",
       "      <th>volatile acidity</th>\n",
       "      <th>citric acid</th>\n",
       "      <th>residual sugar</th>\n",
       "      <th>chlorides</th>\n",
       "      <th>free sulfur dioxide</th>\n",
       "      <th>total sulfur dioxide</th>\n",
       "      <th>density</th>\n",
       "      <th>pH</th>\n",
       "      <th>sulphates</th>\n",
       "      <th>alcohol</th>\n",
       "      <th>quality</th>\n",
       "    </tr>\n",
       "  </thead>\n",
       "  <tbody>\n",
       "    <tr>\n",
       "      <th>0</th>\n",
       "      <td>-0.524431</td>\n",
       "      <td>0.932000</td>\n",
       "      <td>-1.393258</td>\n",
       "      <td>-0.461157</td>\n",
       "      <td>-0.245623</td>\n",
       "      <td>-0.468554</td>\n",
       "      <td>-0.384050</td>\n",
       "      <td>0.584003</td>\n",
       "      <td>1.291872</td>\n",
       "      <td>-0.578561</td>\n",
       "      <td>-0.954374</td>\n",
       "      <td>0</td>\n",
       "    </tr>\n",
       "    <tr>\n",
       "      <th>1</th>\n",
       "      <td>-0.294063</td>\n",
       "      <td>1.915800</td>\n",
       "      <td>-1.393258</td>\n",
       "      <td>0.056665</td>\n",
       "      <td>0.200094</td>\n",
       "      <td>0.872003</td>\n",
       "      <td>0.604073</td>\n",
       "      <td>0.048737</td>\n",
       "      <td>-0.708395</td>\n",
       "      <td>0.124822</td>\n",
       "      <td>-0.584575</td>\n",
       "      <td>0</td>\n",
       "    </tr>\n",
       "    <tr>\n",
       "      <th>2</th>\n",
       "      <td>-0.294063</td>\n",
       "      <td>1.259934</td>\n",
       "      <td>-1.188617</td>\n",
       "      <td>-0.165259</td>\n",
       "      <td>0.078535</td>\n",
       "      <td>-0.085537</td>\n",
       "      <td>0.214813</td>\n",
       "      <td>0.155790</td>\n",
       "      <td>-0.321247</td>\n",
       "      <td>-0.051024</td>\n",
       "      <td>-0.584575</td>\n",
       "      <td>0</td>\n",
       "    </tr>\n",
       "    <tr>\n",
       "      <th>3</th>\n",
       "      <td>1.664067</td>\n",
       "      <td>-1.363534</td>\n",
       "      <td>1.471711</td>\n",
       "      <td>-0.461157</td>\n",
       "      <td>-0.265883</td>\n",
       "      <td>0.105971</td>\n",
       "      <td>0.394471</td>\n",
       "      <td>0.691057</td>\n",
       "      <td>-0.966495</td>\n",
       "      <td>-0.461331</td>\n",
       "      <td>-0.584575</td>\n",
       "      <td>0</td>\n",
       "    </tr>\n",
       "    <tr>\n",
       "      <th>5</th>\n",
       "      <td>-0.524431</td>\n",
       "      <td>0.713378</td>\n",
       "      <td>-1.393258</td>\n",
       "      <td>-0.535132</td>\n",
       "      <td>-0.265883</td>\n",
       "      <td>-0.277045</td>\n",
       "      <td>-0.204391</td>\n",
       "      <td>0.584003</td>\n",
       "      <td>1.291872</td>\n",
       "      <td>-0.578561</td>\n",
       "      <td>-0.954374</td>\n",
       "      <td>0</td>\n",
       "    </tr>\n",
       "  </tbody>\n",
       "</table>\n",
       "</div>"
      ],
      "text/plain": [
       "   fixed acidity  volatile acidity  citric acid  residual sugar  chlorides  \\\n",
       "0      -0.524431          0.932000    -1.393258       -0.461157  -0.245623   \n",
       "1      -0.294063          1.915800    -1.393258        0.056665   0.200094   \n",
       "2      -0.294063          1.259934    -1.188617       -0.165259   0.078535   \n",
       "3       1.664067         -1.363534     1.471711       -0.461157  -0.265883   \n",
       "5      -0.524431          0.713378    -1.393258       -0.535132  -0.265883   \n",
       "\n",
       "   free sulfur dioxide  total sulfur dioxide   density        pH  sulphates  \\\n",
       "0            -0.468554             -0.384050  0.584003  1.291872  -0.578561   \n",
       "1             0.872003              0.604073  0.048737 -0.708395   0.124822   \n",
       "2            -0.085537              0.214813  0.155790 -0.321247  -0.051024   \n",
       "3             0.105971              0.394471  0.691057 -0.966495  -0.461331   \n",
       "5            -0.277045             -0.204391  0.584003  1.291872  -0.578561   \n",
       "\n",
       "    alcohol  quality  \n",
       "0 -0.954374        0  \n",
       "1 -0.584575        0  \n",
       "2 -0.584575        0  \n",
       "3 -0.584575        0  \n",
       "5 -0.954374        0  "
      ]
     },
     "execution_count": 30,
     "metadata": {},
     "output_type": "execute_result"
    }
   ],
   "source": [
    "# Подготовим список колонок с признаками для обучения модели\n",
    "lst_cols = list(df.columns.values)\n",
    "lst_cols.remove('quality')\n",
    "\n",
    "# Стандартизируем признаки для обучения\n",
    "scaler = StandardScaler()\n",
    "for column in lst_cols:\n",
    "    df[column] = scaler.fit_transform(df[[column]])\n",
    "df.head()"
   ]
  },
  {
   "cell_type": "code",
   "execution_count": 31,
   "metadata": {},
   "outputs": [
    {
     "data": {
      "image/png": "[encoded data removed]",
      "text/plain": [
       "<Figure size 720x576 with 2 Axes>"
      ]
     },
     "metadata": {
      "needs_background": "light"
     },
     "output_type": "display_data"
    }
   ],
   "source": [
    "# Вычислим матрицу корреляции\n",
    "corr_matrix = df.corr()\n",
    "\n",
    "#  тепловая карта матрицы корреляции\n",
    "plt.figure(figsize=(10, 8))\n",
    "sns.heatmap(corr_matrix, annot=True, cmap='coolwarm')\n",
    "\n",
    "# Добавив название графика\n",
    "plt.title('Correlation Matrix')\n",
    "\n",
    "# Отобразим график\n",
    "plt.show()"
   ]
  },
  {
   "cell_type": "code",
   "execution_count": 33,
   "metadata": {},
   "outputs": [
    {
     "data": {
      "image/png": "[encoded data removed]",
      "text/plain": [
       "<Figure size 720x432 with 1 Axes>"
      ]
     },
     "metadata": {
      "needs_background": "light"
     },
     "output_type": "display_data"
    }
   ],
   "source": [
    "quality_counts = df['quality'].value_counts()\n",
    "plt.figure(figsize=(10,6))\n",
    "quality_counts.plot(kind='bar')\n",
    "plt.title(\"Распределение 'quality'\")\n",
    "plt.xlabel('Quality')\n",
    "plt.ylabel('Count')\n",
    "plt.show()"
   ]
  },
  {
   "cell_type": "markdown",
   "metadata": {},
   "source": [
    "# Split data into train and test sets\n",
    "\n",
    "Наблюдается дисбалан в нашей выборке. Поэтому Для данного проекта нам потребуется разбить проект на три части: обучающую, тестовую и валидационную. Используем следующие пророции разбиения - 3/1/1. "
   ]
  },
  {
   "cell_type": "code",
   "execution_count": 34,
   "metadata": {},
   "outputs": [
    {
     "name": "stdout",
     "output_type": "stream",
     "text": [
      "Количество строк тренировочной выборки: 815\n",
      "Количество строк тестовой выборки: 272\n",
      "Количество строк валидационной выборки: 272\n"
     ]
    }
   ],
   "source": [
    "df_train, df_test = train_test_split(df, stratify=df[['quality']], random_state=42, train_size=0.6)\n",
    "df_test, df_valid = train_test_split(df_test, stratify=df_test[['quality']], random_state=42, train_size=0.5)\n",
    "print('Количество строк тренировочной выборки:', len(df_train))\n",
    "print('Количество строк тестовой выборки:', len(df_test))\n",
    "print('Количество строк валидационной выборки:', len(df_valid))"
   ]
  },
  {
   "cell_type": "code",
   "execution_count": 36,
   "metadata": {},
   "outputs": [
    {
     "data": {
      "image/png": "[encoded data removed]",
      "text/plain": [
       "<Figure size 720x1296 with 3 Axes>"
      ]
     },
     "metadata": {
      "needs_background": "light"
     },
     "output_type": "display_data"
    }
   ],
   "source": [
    "# Считаем количество различных значений 'quality' в каждом наборе данных\n",
    "quality_counts_train = df_train['quality'].value_counts()\n",
    "quality_counts_test = df_test['quality'].value_counts()\n",
    "quality_counts_valid = df_valid['quality'].value_counts()\n",
    "\n",
    "# Создаем figure и axes (3 подграфика)\n",
    "fig, axs = plt.subplots(3, figsize=(10,18))\n",
    "\n",
    "# Строим график для тренировочного набора\n",
    "axs[0].bar(quality_counts_train.index, quality_counts_train.values)\n",
    "axs[0].set_title(\"Распределение 'quality' в обучающем наборе\")\n",
    "axs[0].set_xlabel('Quality')\n",
    "axs[0].set_ylabel('Count')\n",
    "\n",
    "# Строим график для тестового набора\n",
    "axs[1].bar(quality_counts_test.index, quality_counts_test.values)\n",
    "axs[1].set_title(\"Распределение 'quality' в тестовом наборе\")\n",
    "axs[1].set_xlabel('Quality')\n",
    "axs[1].set_ylabel('Count')\n",
    "\n",
    "# Строим график для валидационного набора\n",
    "axs[2].bar(quality_counts_valid.index, quality_counts_valid.values)\n",
    "axs[2].set_title(\"Распределение 'quality' в валидационном наборе\")\n",
    "axs[2].set_xlabel('Quality')\n",
    "axs[2].set_ylabel('Count')\n",
    "\n",
    "# Оптимизируем расположение графиков\n",
    "plt.tight_layout()\n",
    "\n",
    "# Отображаем графики\n",
    "plt.show()"
   ]
  },
  {
   "cell_type": "markdown",
   "metadata": {},
   "source": [
    "Видно, что соотношение оценок качества вина не изменилось."
   ]
  },
  {
   "cell_type": "markdown",
   "metadata": {},
   "source": [
    "# SVM\n",
    "\n",
    "Необходимо подобрать гиперпаметры на основании модели SVM. Для этого воспользуемся методом подбора гиперпараметров GridSearchCV, где одним из перебираемых параметром в сетке поиска будет ядро в модели SVC. Из данной модели, по условиям задания, будем обрабатывать следующие ядра: ['linear', 'poly', 'rbf', 'sigmoid']."
   ]
  },
  {
   "cell_type": "code",
   "execution_count": 49,
   "metadata": {},
   "outputs": [
    {
     "name": "stdout",
     "output_type": "stream",
     "text": [
      "Shape X: (272, 11)\n",
      "Shape y: (272,)\n"
     ]
    }
   ],
   "source": [
    "# Признаки для обучения из валидационной выборки\n",
    "X = np.array(df_valid[lst_cols])\n",
    "\n",
    "# Целевая переменная из валидационной выборки\n",
    "y = np.array(df_valid['quality'])\n",
    "\n",
    "print('Shape X: {}'.format(X.shape))\n",
    "print('Shape y: {}'.format(y.shape))"
   ]
  },
  {
   "cell_type": "code",
   "execution_count": 42,
   "metadata": {},
   "outputs": [
    {
     "data": {
      "text/html": [
       "<style>#sk-container-id-1 {color: black;background-color: white;}#sk-container-id-1 pre{padding: 0;}#sk-container-id-1 div.sk-toggleable {background-color: white;}#sk-container-id-1 label.sk-toggleable__label {cursor: pointer;display: block;width: 100%;margin-bottom: 0;padding: 0.3em;box-sizing: border-box;text-align: center;}#sk-container-id-1 label.sk-toggleable__label-arrow:before {content: \"▸\";float: left;margin-right: 0.25em;color: #696969;}#sk-container-id-1 label.sk-toggleable__label-arrow:hover:before {color: black;}#sk-container-id-1 div.sk-estimator:hover label.sk-toggleable__label-arrow:before {color: black;}#sk-container-id-1 div.sk-toggleable__content {max-height: 0;max-width: 0;overflow: hidden;text-align: left;background-color: #f0f8ff;}#sk-container-id-1 div.sk-toggleable__content pre {margin: 0.2em;color: black;border-radius: 0.25em;background-color: #f0f8ff;}#sk-container-id-1 input.sk-toggleable__control:checked~div.sk-toggleable__content {max-height: 200px;max-width: 100%;overflow: auto;}#sk-container-id-1 input.sk-toggleable__control:checked~label.sk-toggleable__label-arrow:before {content: \"▾\";}#sk-container-id-1 div.sk-estimator input.sk-toggleable__control:checked~label.sk-toggleable__label {background-color: #d4ebff;}#sk-container-id-1 div.sk-label input.sk-toggleable__control:checked~label.sk-toggleable__label {background-color: #d4ebff;}#sk-container-id-1 input.sk-hidden--visually {border: 0;clip: rect(1px 1px 1px 1px);clip: rect(1px, 1px, 1px, 1px);height: 1px;margin: -1px;overflow: hidden;padding: 0;position: absolute;width: 1px;}#sk-container-id-1 div.sk-estimator {font-family: monospace;background-color: #f0f8ff;border: 1px dotted black;border-radius: 0.25em;box-sizing: border-box;margin-bottom: 0.5em;}#sk-container-id-1 div.sk-estimator:hover {background-color: #d4ebff;}#sk-container-id-1 div.sk-parallel-item::after {content: \"\";width: 100%;border-bottom: 1px solid gray;flex-grow: 1;}#sk-container-id-1 div.sk-label:hover label.sk-toggleable__label {background-color: #d4ebff;}#sk-container-id-1 div.sk-serial::before {content: \"\";position: absolute;border-left: 1px solid gray;box-sizing: border-box;top: 0;bottom: 0;left: 50%;z-index: 0;}#sk-container-id-1 div.sk-serial {display: flex;flex-direction: column;align-items: center;background-color: white;padding-right: 0.2em;padding-left: 0.2em;position: relative;}#sk-container-id-1 div.sk-item {position: relative;z-index: 1;}#sk-container-id-1 div.sk-parallel {display: flex;align-items: stretch;justify-content: center;background-color: white;position: relative;}#sk-container-id-1 div.sk-item::before, #sk-container-id-1 div.sk-parallel-item::before {content: \"\";position: absolute;border-left: 1px solid gray;box-sizing: border-box;top: 0;bottom: 0;left: 50%;z-index: -1;}#sk-container-id-1 div.sk-parallel-item {display: flex;flex-direction: column;z-index: 1;position: relative;background-color: white;}#sk-container-id-1 div.sk-parallel-item:first-child::after {align-self: flex-end;width: 50%;}#sk-container-id-1 div.sk-parallel-item:last-child::after {align-self: flex-start;width: 50%;}#sk-container-id-1 div.sk-parallel-item:only-child::after {width: 0;}#sk-container-id-1 div.sk-dashed-wrapped {border: 1px dashed gray;margin: 0 0.4em 0.5em 0.4em;box-sizing: border-box;padding-bottom: 0.4em;background-color: white;}#sk-container-id-1 div.sk-label label {font-family: monospace;font-weight: bold;display: inline-block;line-height: 1.2em;}#sk-container-id-1 div.sk-label-container {text-align: center;}#sk-container-id-1 div.sk-container {/* jupyter's `normalize.less` sets `[hidden] { display: none; }` but bootstrap.min.css set `[hidden] { display: none !important; }` so we also need the `!important` here to be able to override the default hidden behavior on the sphinx rendered scikit-learn.org. See: https://github.com/scikit-learn/scikit-learn/issues/21755 */display: inline-block !important;position: relative;}#sk-container-id-1 div.sk-text-repr-fallback {display: none;}</style><div id=\"sk-container-id-1\" class=\"sk-top-container\"><div class=\"sk-text-repr-fallback\"><pre>GridSearchCV(cv=StratifiedShuffleSplit(n_splits=5, random_state=42, test_size=0.2,\n",
       "            train_size=None),\n",
       "             estimator=SVC(class_weight=&#x27;balanced&#x27;, random_state=42),\n",
       "             param_grid={&#x27;C&#x27;: array([0.01, 0.05, 0.1 , 1.05, 1.  ]),\n",
       "                         &#x27;gamma&#x27;: [&#x27;scale&#x27;, &#x27;auto&#x27;, 0.01, 0.1, 1, 10, 100],\n",
       "                         &#x27;kernel&#x27;: [&#x27;linear&#x27;, &#x27;poly&#x27;, &#x27;rbf&#x27;, &#x27;sigmoid&#x27;]})</pre><b>In a Jupyter environment, please rerun this cell to show the HTML representation or trust the notebook. <br />On GitHub, the HTML representation is unable to render, please try loading this page with nbviewer.org.</b></div><div class=\"sk-container\" hidden><div class=\"sk-item sk-dashed-wrapped\"><div class=\"sk-label-container\"><div class=\"sk-label sk-toggleable\"><input class=\"sk-toggleable__control sk-hidden--visually\" id=\"sk-estimator-id-1\" type=\"checkbox\" ><label for=\"sk-estimator-id-1\" class=\"sk-toggleable__label sk-toggleable__label-arrow\">GridSearchCV</label><div class=\"sk-toggleable__content\"><pre>GridSearchCV(cv=StratifiedShuffleSplit(n_splits=5, random_state=42, test_size=0.2,\n",
       "            train_size=None),\n",
       "             estimator=SVC(class_weight=&#x27;balanced&#x27;, random_state=42),\n",
       "             param_grid={&#x27;C&#x27;: array([0.01, 0.05, 0.1 , 1.05, 1.  ]),\n",
       "                         &#x27;gamma&#x27;: [&#x27;scale&#x27;, &#x27;auto&#x27;, 0.01, 0.1, 1, 10, 100],\n",
       "                         &#x27;kernel&#x27;: [&#x27;linear&#x27;, &#x27;poly&#x27;, &#x27;rbf&#x27;, &#x27;sigmoid&#x27;]})</pre></div></div></div><div class=\"sk-parallel\"><div class=\"sk-parallel-item\"><div class=\"sk-item\"><div class=\"sk-label-container\"><div class=\"sk-label sk-toggleable\"><input class=\"sk-toggleable__control sk-hidden--visually\" id=\"sk-estimator-id-2\" type=\"checkbox\" ><label for=\"sk-estimator-id-2\" class=\"sk-toggleable__label sk-toggleable__label-arrow\">estimator: SVC</label><div class=\"sk-toggleable__content\"><pre>SVC(class_weight=&#x27;balanced&#x27;, random_state=42)</pre></div></div></div><div class=\"sk-serial\"><div class=\"sk-item\"><div class=\"sk-estimator sk-toggleable\"><input class=\"sk-toggleable__control sk-hidden--visually\" id=\"sk-estimator-id-3\" type=\"checkbox\" ><label for=\"sk-estimator-id-3\" class=\"sk-toggleable__label sk-toggleable__label-arrow\">SVC</label><div class=\"sk-toggleable__content\"><pre>SVC(class_weight=&#x27;balanced&#x27;, random_state=42)</pre></div></div></div></div></div></div></div></div></div></div>"
      ],
      "text/plain": [
       "GridSearchCV(cv=StratifiedShuffleSplit(n_splits=5, random_state=42, test_size=0.2,\n",
       "            train_size=None),\n",
       "             estimator=SVC(class_weight='balanced', random_state=42),\n",
       "             param_grid={'C': array([0.01, 0.05, 0.1 , 1.05, 1.  ]),\n",
       "                         'gamma': ['scale', 'auto', 0.01, 0.1, 1, 10, 100],\n",
       "                         'kernel': ['linear', 'poly', 'rbf', 'sigmoid']})"
      ]
     },
     "execution_count": 42,
     "metadata": {},
     "output_type": "execute_result"
    }
   ],
   "source": [
    "# Подготовим значения параметров сетки поиска для SVC-модели\n",
    "C_range = np.array([0.01, 0.05, 0.1, 1.05, 1.0])\n",
    "gamma_range = ['scale', 'auto', 0.01, 0.1, 1, 10, 100]\n",
    "kernel_range = ['linear', 'poly', 'rbf', 'sigmoid'] # Поиск лучшего ядра из списка\n",
    "param_grid = dict(C=C_range, gamma=gamma_range, kernel=kernel_range)\n",
    "\n",
    "# Используем стратифицированный перекрестный валидатор\n",
    "cv = StratifiedShuffleSplit(n_splits=5, test_size=0.2, random_state=42)\n",
    "\n",
    "# Инициируем SVC-модель с учетом балансировки целевой переменной\n",
    "clf = SVC(class_weight='balanced', random_state=42)\n",
    "# Передаем модель в GridSearchCV для подбора лучших гиперпараметров и запускаем на обработку\n",
    "grid = GridSearchCV(clf, param_grid=param_grid, cv=cv, verbose=0)\n",
    "grid.fit(X, y)"
   ]
  },
  {
   "cell_type": "code",
   "execution_count": 44,
   "metadata": {},
   "outputs": [
    {
     "data": {
      "text/plain": [
       "{'C': 0.05, 'gamma': 'scale', 'kernel': 'poly'}"
      ]
     },
     "execution_count": 44,
     "metadata": {},
     "output_type": "execute_result"
    }
   ],
   "source": [
    "# Полученные лучшие параметры\n",
    "grid.best_params_"
   ]
  },
  {
   "cell_type": "code",
   "execution_count": 47,
   "metadata": {},
   "outputs": [
    {
     "name": "stdout",
     "output_type": "stream",
     "text": [
      "Best kernel is poly\n"
     ]
    }
   ],
   "source": [
    "print('Best kernel is', grid.best_params_['kernel'])"
   ]
  },
  {
   "cell_type": "markdown",
   "metadata": {},
   "source": [
    "# Training model"
   ]
  },
  {
   "cell_type": "code",
   "execution_count": 50,
   "metadata": {},
   "outputs": [
    {
     "name": "stdout",
     "output_type": "stream",
     "text": [
      "Shape X: (815, 11)\n",
      "Shape y: (815,)\n"
     ]
    }
   ],
   "source": [
    "# Признаки для обучения из обучающей выборки\n",
    "X = np.array(df_train[lst_cols])\n",
    "\n",
    "# Целевая переменная из обучающей выборки\n",
    "y = np.array(df_train['quality'])\n",
    "y.shape\n",
    "\n",
    "print('Shape X: {}'.format(X.shape))\n",
    "print('Shape y: {}'.format(y.shape))"
   ]
  },
  {
   "cell_type": "code",
   "execution_count": 51,
   "metadata": {},
   "outputs": [
    {
     "data": {
      "text/html": [
       "<style>#sk-container-id-2 {color: black;background-color: white;}#sk-container-id-2 pre{padding: 0;}#sk-container-id-2 div.sk-toggleable {background-color: white;}#sk-container-id-2 label.sk-toggleable__label {cursor: pointer;display: block;width: 100%;margin-bottom: 0;padding: 0.3em;box-sizing: border-box;text-align: center;}#sk-container-id-2 label.sk-toggleable__label-arrow:before {content: \"▸\";float: left;margin-right: 0.25em;color: #696969;}#sk-container-id-2 label.sk-toggleable__label-arrow:hover:before {color: black;}#sk-container-id-2 div.sk-estimator:hover label.sk-toggleable__label-arrow:before {color: black;}#sk-container-id-2 div.sk-toggleable__content {max-height: 0;max-width: 0;overflow: hidden;text-align: left;background-color: #f0f8ff;}#sk-container-id-2 div.sk-toggleable__content pre {margin: 0.2em;color: black;border-radius: 0.25em;background-color: #f0f8ff;}#sk-container-id-2 input.sk-toggleable__control:checked~div.sk-toggleable__content {max-height: 200px;max-width: 100%;overflow: auto;}#sk-container-id-2 input.sk-toggleable__control:checked~label.sk-toggleable__label-arrow:before {content: \"▾\";}#sk-container-id-2 div.sk-estimator input.sk-toggleable__control:checked~label.sk-toggleable__label {background-color: #d4ebff;}#sk-container-id-2 div.sk-label input.sk-toggleable__control:checked~label.sk-toggleable__label {background-color: #d4ebff;}#sk-container-id-2 input.sk-hidden--visually {border: 0;clip: rect(1px 1px 1px 1px);clip: rect(1px, 1px, 1px, 1px);height: 1px;margin: -1px;overflow: hidden;padding: 0;position: absolute;width: 1px;}#sk-container-id-2 div.sk-estimator {font-family: monospace;background-color: #f0f8ff;border: 1px dotted black;border-radius: 0.25em;box-sizing: border-box;margin-bottom: 0.5em;}#sk-container-id-2 div.sk-estimator:hover {background-color: #d4ebff;}#sk-container-id-2 div.sk-parallel-item::after {content: \"\";width: 100%;border-bottom: 1px solid gray;flex-grow: 1;}#sk-container-id-2 div.sk-label:hover label.sk-toggleable__label {background-color: #d4ebff;}#sk-container-id-2 div.sk-serial::before {content: \"\";position: absolute;border-left: 1px solid gray;box-sizing: border-box;top: 0;bottom: 0;left: 50%;z-index: 0;}#sk-container-id-2 div.sk-serial {display: flex;flex-direction: column;align-items: center;background-color: white;padding-right: 0.2em;padding-left: 0.2em;position: relative;}#sk-container-id-2 div.sk-item {position: relative;z-index: 1;}#sk-container-id-2 div.sk-parallel {display: flex;align-items: stretch;justify-content: center;background-color: white;position: relative;}#sk-container-id-2 div.sk-item::before, #sk-container-id-2 div.sk-parallel-item::before {content: \"\";position: absolute;border-left: 1px solid gray;box-sizing: border-box;top: 0;bottom: 0;left: 50%;z-index: -1;}#sk-container-id-2 div.sk-parallel-item {display: flex;flex-direction: column;z-index: 1;position: relative;background-color: white;}#sk-container-id-2 div.sk-parallel-item:first-child::after {align-self: flex-end;width: 50%;}#sk-container-id-2 div.sk-parallel-item:last-child::after {align-self: flex-start;width: 50%;}#sk-container-id-2 div.sk-parallel-item:only-child::after {width: 0;}#sk-container-id-2 div.sk-dashed-wrapped {border: 1px dashed gray;margin: 0 0.4em 0.5em 0.4em;box-sizing: border-box;padding-bottom: 0.4em;background-color: white;}#sk-container-id-2 div.sk-label label {font-family: monospace;font-weight: bold;display: inline-block;line-height: 1.2em;}#sk-container-id-2 div.sk-label-container {text-align: center;}#sk-container-id-2 div.sk-container {/* jupyter's `normalize.less` sets `[hidden] { display: none; }` but bootstrap.min.css set `[hidden] { display: none !important; }` so we also need the `!important` here to be able to override the default hidden behavior on the sphinx rendered scikit-learn.org. See: https://github.com/scikit-learn/scikit-learn/issues/21755 */display: inline-block !important;position: relative;}#sk-container-id-2 div.sk-text-repr-fallback {display: none;}</style><div id=\"sk-container-id-2\" class=\"sk-top-container\"><div class=\"sk-text-repr-fallback\"><pre>SVC(C=0.05, class_weight=&#x27;balanced&#x27;, kernel=&#x27;poly&#x27;, random_state=42)</pre><b>In a Jupyter environment, please rerun this cell to show the HTML representation or trust the notebook. <br />On GitHub, the HTML representation is unable to render, please try loading this page with nbviewer.org.</b></div><div class=\"sk-container\" hidden><div class=\"sk-item\"><div class=\"sk-estimator sk-toggleable\"><input class=\"sk-toggleable__control sk-hidden--visually\" id=\"sk-estimator-id-4\" type=\"checkbox\" checked><label for=\"sk-estimator-id-4\" class=\"sk-toggleable__label sk-toggleable__label-arrow\">SVC</label><div class=\"sk-toggleable__content\"><pre>SVC(C=0.05, class_weight=&#x27;balanced&#x27;, kernel=&#x27;poly&#x27;, random_state=42)</pre></div></div></div></div></div>"
      ],
      "text/plain": [
       "SVC(C=0.05, class_weight='balanced', kernel='poly', random_state=42)"
      ]
     },
     "execution_count": 51,
     "metadata": {},
     "output_type": "execute_result"
    }
   ],
   "source": [
    "clf = SVC(C=grid.best_params_['C'], gamma=grid.best_params_['gamma'], kernel=grid.best_params_['kernel'], class_weight='balanced', random_state=42)\n",
    "clf.fit(X, y)"
   ]
  },
  {
   "cell_type": "code",
   "execution_count": 52,
   "metadata": {},
   "outputs": [
    {
     "name": "stdout",
     "output_type": "stream",
     "text": [
      "Train accuracy: 0.8736196319018404\n"
     ]
    }
   ],
   "source": [
    "# Оценка средней точности модели (accuracy) на обучающей выборке\n",
    "print('Train accuracy:', clf.score(X, y))"
   ]
  },
  {
   "cell_type": "code",
   "execution_count": 53,
   "metadata": {},
   "outputs": [
    {
     "data": {
      "text/plain": [
       "array([[639,  66],\n",
       "       [ 37,  73]], dtype=int64)"
      ]
     },
     "execution_count": 53,
     "metadata": {},
     "output_type": "execute_result"
    }
   ],
   "source": [
    "# confusion_matrix обучающей выборки\n",
    "y_pred = clf.predict(X)\n",
    "confusion_matrix(y, y_pred)"
   ]
  },
  {
   "cell_type": "code",
   "execution_count": 54,
   "metadata": {},
   "outputs": [
    {
     "name": "stdout",
     "output_type": "stream",
     "text": [
      "Shape X: (272, 11)\n",
      "Shape y: (272,)\n"
     ]
    }
   ],
   "source": [
    "# Признаки для обучения из тестовой выборки\n",
    "X = np.array(df_test[lst_cols])\n",
    "\n",
    "# Целевая переменная из тестовой выборки\n",
    "y = np.array(df_test['quality'])\n",
    "\n",
    "print('Shape X: {}'.format(X.shape))\n",
    "print('Shape y: {}'.format(y.shape))"
   ]
  },
  {
   "cell_type": "code",
   "execution_count": 55,
   "metadata": {},
   "outputs": [
    {
     "name": "stdout",
     "output_type": "stream",
     "text": [
      "Test accuracy: 0.8566176470588235\n"
     ]
    }
   ],
   "source": [
    "# Оценка средней точности модели (accuracy) на тестовой выборке\n",
    "y_pred = clf.predict(X)\n",
    "print('Test accuracy:', clf.score(X, y))"
   ]
  },
  {
   "cell_type": "code",
   "execution_count": 56,
   "metadata": {},
   "outputs": [
    {
     "data": {
      "text/plain": [
       "array([[212,  23],\n",
       "       [ 16,  21]], dtype=int64)"
      ]
     },
     "execution_count": 56,
     "metadata": {},
     "output_type": "execute_result"
    }
   ],
   "source": [
    "# confusion_matrix тестовой выборки\n",
    "y_pred = clf.predict(X)\n",
    "confusion_matrix(y, y_pred)"
   ]
  },
  {
   "cell_type": "code",
   "execution_count": 57,
   "metadata": {},
   "outputs": [
    {
     "name": "stdout",
     "output_type": "stream",
     "text": [
      "Shape X: (272, 11)\n",
      "Shape y: (272,)\n"
     ]
    }
   ],
   "source": [
    "# Признаки для обучения из валидационной выборки\n",
    "X = np.array(df_valid[lst_cols])\n",
    "\n",
    "# Целевая переменная из валидационной выборки\n",
    "y = np.array(df_valid['quality'])\n",
    "\n",
    "print('Shape X: {}'.format(X.shape))\n",
    "print('Shape y: {}'.format(y.shape))"
   ]
  },
  {
   "cell_type": "code",
   "execution_count": 58,
   "metadata": {},
   "outputs": [
    {
     "data": {
      "text/plain": [
       "array([0.89090909, 0.83636364, 0.85454545, 0.94545455, 0.89090909])"
      ]
     },
     "execution_count": 58,
     "metadata": {},
     "output_type": "execute_result"
    }
   ],
   "source": [
    "# Оценки модели на кросс-валидации\n",
    "scores = cross_val_score(clf, X, y, cv=cv, scoring='accuracy')\n",
    "scores"
   ]
  },
  {
   "cell_type": "code",
   "execution_count": 59,
   "metadata": {},
   "outputs": [
    {
     "name": "stdout",
     "output_type": "stream",
     "text": [
      "CV accuracy: 0.8836363636363636\n"
     ]
    }
   ],
   "source": [
    "# Средняя оценка точности (accuracy) на кросс-валидации\n",
    "print('CV accuracy:', scores.mean())"
   ]
  },
  {
   "cell_type": "code",
   "execution_count": 60,
   "metadata": {},
   "outputs": [
    {
     "name": "stdout",
     "output_type": "stream",
     "text": [
      "CV standard deviation: 0.03743865505813456\n"
     ]
    }
   ],
   "source": [
    "# Cтандартное отклонение на кросс-валидации\n",
    "print('CV standard deviation:', scores.std())"
   ]
  },
  {
   "cell_type": "markdown",
   "metadata": {},
   "source": [
    "Наилучшее ядро для нашего кейса - это POLY-ядро. Оно позволило модели получить среднюю точность (accuracy) порядка около 87%."
   ]
  }
 ],
 "metadata": {
  "kernelspec": {
   "display_name": "Python 3",
   "language": "python",
   "name": "python3"
  },
  "language_info": {
   "codemirror_mode": {
    "name": "ipython",
    "version": 3
   },
   "file_extension": ".py",
   "mimetype": "text/x-python",
   "name": "python",
   "nbconvert_exporter": "python",
   "pygments_lexer": "ipython3",
   "version": "3.9.10"
  }
 },
 "nbformat": 4,
 "nbformat_minor": 2
}
